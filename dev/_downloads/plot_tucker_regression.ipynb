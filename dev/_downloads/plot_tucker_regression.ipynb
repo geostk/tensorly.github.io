{
  "cells": [
    {
      "execution_count": null,
      "metadata": {
        "collapsed": false
      },
      "outputs": [],
      "cell_type": "code",
      "source": [
        "%matplotlib inline"
      ]
    },
    {
      "metadata": {},
      "cell_type": "markdown",
      "source": [
        "\nTucker tensor regression\n========================\n\nExample on how to use :class:`tensorly.regression.tucker_regression.TuckerRegressor` to perform tensor regression.\n\n"
      ]
    },
    {
      "execution_count": null,
      "metadata": {
        "collapsed": false
      },
      "outputs": [],
      "cell_type": "code",
      "source": [
        "import matplotlib.pyplot as plt\nfrom tensorly.base import tensor_to_vec, partial_tensor_to_vec\nfrom tensorly.datasets.synthetic import gen_image\nfrom tensorly.utils import check_random_state\nfrom tensorly.regression.tucker_regression import TuckerRegressor\n\n# Parameter of the experiment\nimage_height = 25\nimage_width = 25\n# shape of the images\npatterns = ['rectangle', 'swiss', 'circle']\n# ranks to test\nranks = [1, 2, 3, 4, 5]\n\n# Generate random samples\nrng = check_random_state(1)\nX = rng.normal(size=(1000, image_height, image_width), loc=0, scale=1)\n\n\n# Paramters of the plot, deduced from the data\nn_rows = len(patterns)\nn_columns = len(ranks) + 1\n# Plot the three images\nfig = plt.figure()\n\nfor i, pattern in enumerate(patterns):\n\n    # Generate the original image\n    weight_img = gen_image(region=pattern, image_height=image_height, image_width=image_width)\n\n    # Generate the labels\n    y = partial_tensor_to_vec(X, skip_begin=1).dot(tensor_to_vec(weight_img))\n\n    # Plot the original weights\n    ax = fig.add_subplot(n_rows, n_columns, i*n_columns + 1)\n    ax.imshow(weight_img, cmap=plt.cm.OrRd, interpolation='nearest')\n    ax.set_axis_off()\n    if i == 0:\n        ax.set_title('Original\\nweights')\n\n    for j, rank in enumerate(ranks):\n\n        # Create a tensor Regressor estimator\n        estimator = TuckerRegressor(weight_ranks=[rank, rank], tol=10e-7, n_iter_max=100, reg_W=1, verbose=0)\n\n        # Fit the estimator to the data\n        estimator.fit(X, y)\n\n        ax = fig.add_subplot(n_rows, n_columns, i*n_columns + j + 2)\n        ax.imshow(estimator.weight_tensor_, cmap=plt.cm.OrRd, interpolation='nearest')\n        ax.set_axis_off()\n\n        if i == 0:\n            ax.set_title('Learned\\nrank = {}'.format(rank))\n\nplt.suptitle(\"Tucker tensor regression\")\nplt.show()"
      ]
    }
  ],
  "nbformat_minor": 0,
  "metadata": {
    "kernelspec": {
      "display_name": "Python 3",
      "name": "python3",
      "language": "python"
    },
    "language_info": {
      "pygments_lexer": "ipython3",
      "nbconvert_exporter": "python",
      "codemirror_mode": {
        "version": 3,
        "name": "ipython"
      },
      "version": "3.5.2",
      "mimetype": "text/x-python",
      "name": "python",
      "file_extension": ".py"
    }
  },
  "nbformat": 4
}