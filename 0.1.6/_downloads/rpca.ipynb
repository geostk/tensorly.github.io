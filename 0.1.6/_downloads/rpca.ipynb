{
  "cells": [
    {
      "execution_count": null,
      "metadata": {
        "collapsed": false
      },
      "outputs": [],
      "cell_type": "code",
      "source": [
        "%matplotlib inline"
      ]
    },
    {
      "metadata": {},
      "cell_type": "markdown",
      "source": [
        "\nRobust Tensor Robust PCA\n========================\n\nExample on how to use :mod:`tensorly.decomposition.robust_pca` to perform Robust Tensor PCA.\n\n\n"
      ]
    },
    {
      "execution_count": null,
      "metadata": {
        "collapsed": false
      },
      "outputs": [],
      "cell_type": "code",
      "source": [
        "import matplotlib.pyplot as plt\nfrom tensorly.datasets.yaleb import fetch_cropped_yaleb\n\ndataset_path = '/data/tensorly_data/'\ndata = fetch_cropped_yaleb(dataset_path, zooming=0.3, max_n_subjects=5)"
      ]
    },
    {
      "metadata": {},
      "cell_type": "markdown",
      "source": [
        "Accumulate a tensor containing all the data\n\n"
      ]
    },
    {
      "execution_count": null,
      "metadata": {
        "collapsed": false
      },
      "outputs": [],
      "cell_type": "code",
      "source": [
        "X = np.concatenate([data[key]['images'] for key in data], axis=0)\nprint(X.shape)"
      ]
    },
    {
      "metadata": {},
      "cell_type": "markdown",
      "source": [
        "Convert to float\n\n"
      ]
    },
    {
      "execution_count": null,
      "metadata": {
        "collapsed": false
      },
      "outputs": [],
      "cell_type": "code",
      "source": [
        "X = X.astype(np.float64)\nX -= X.mean()"
      ]
    },
    {
      "metadata": {},
      "cell_type": "markdown",
      "source": [
        "Visualise the data\n\n"
      ]
    },
    {
      "execution_count": null,
      "metadata": {
        "collapsed": false
      },
      "outputs": [],
      "cell_type": "code",
      "source": [
        "def visualise_images(X, n_images, n_columns, randomise=True):\n    indices = np.arange(X.shape[0])\n    np.random.shuffle(indices)\n    indices = indices[:n_images]\n    cmap = plt.cm.Greys_r\n    n_rows = np.ceil(n_images / n_columns)\n    fig = plt.figure(figsize=(2*n_columns, 2*n_rows))\n    fig.subplots_adjust(left=0, right=1, bottom=0, top=1, hspace=0.05, wspace=0.05)\n\n    # plot the digits: each image is 8x8 pixels\n    for i, e in enumerate(indices):\n        ax = fig.add_subplot(n_rows, n_columns, i + 1, xticks=[], yticks=[])\n        ax.imshow(X[e], cmap=cmap, interpolation='nearest')\n\nvisualise_images(X, 12, 4)\nplt.show()"
      ]
    },
    {
      "metadata": {},
      "cell_type": "markdown",
      "source": [
        "Add noise\n\n"
      ]
    },
    {
      "execution_count": null,
      "metadata": {
        "collapsed": false
      },
      "outputs": [],
      "cell_type": "code",
      "source": [
        "from tensorly.random.noise import add_noise\n\nX = add_noise(X, noise='salt_pepper', percent=0.15, inplace=True, random_state=random_state)\nvisualise_images(X, 12, 4)\nplt.show()"
      ]
    },
    {
      "metadata": {},
      "cell_type": "markdown",
      "source": [
        "Apply robust pca\n\n"
      ]
    },
    {
      "execution_count": null,
      "metadata": {
        "collapsed": false
      },
      "outputs": [],
      "cell_type": "code",
      "source": [
        "from tensorly.decomposition import robust_pca\nlow_rank_part, sparse_part = robust_pca(X, reg_E=0.04, learning_rate=1.2, n_iter_max=20)"
      ]
    },
    {
      "metadata": {},
      "cell_type": "markdown",
      "source": [
        "Check the results\n\n"
      ]
    },
    {
      "execution_count": null,
      "metadata": {
        "collapsed": false
      },
      "outputs": [],
      "cell_type": "code",
      "source": [
        "def visualise_rpca(X, low_rank_part, sparse_part, n_images=10):\n    \"\"\"A little helper function to visualise the result of tensor RPCA\n    \"\"\"\n    indices = np.arange(X.shape[0])\n    np.random.shuffle(indices)\n    indices = indices[:n_images]\n\n    fig = plt.figure(figsize=(10, 2*n_images))\n    fig.subplots_adjust(left=0, right=1, bottom=0, top=1, hspace=0.05, wspace=0.05)\n\n    # plot the digits: each image is 8x8 pixels\n    for i, e in enumerate(indices):\n        cmap = plt.cm.Greys_r\n\n        ax = fig.add_subplot(n_images, 4, 4*i + 1, xticks=[], yticks=[])\n        ax.imshow(X[e], cmap=cmap, interpolation='nearest')\n        if not i:\n            ax.set_title('Original')\n\n        ax = fig.add_subplot(n_images, 4, 4*i + 2, xticks=[], yticks=[])\n        ax.imshow(low_rank_part[e], cmap=cmap, interpolation='nearest')\n        if not i:\n            ax.set_title('Low-rank')\n\n        ax = fig.add_subplot(n_images, 4, 4*i + 3, xticks=[], yticks=[])\n        ax.imshow(sparse_part[e], cmap=cmap, interpolation='nearest')\n        if not i:\n            ax.set_title('Sparse')\n\n        ax = fig.add_subplot(n_images, 4, 4*i + 4, xticks=[], yticks=[])\n        ax.imshow(low_rank_part[e]+sparse_part[e], cmap=cmap, interpolation='nearest')\n        if not i:\n            ax.set_title('Reconstruction')\n\n    return fig\n\nvisualise_rpca(X, low_rank_part, sparse_part, 6)\nplt.show()"
      ]
    }
  ],
  "nbformat_minor": 0,
  "metadata": {
    "kernelspec": {
      "display_name": "Python 3",
      "name": "python3",
      "language": "python"
    },
    "language_info": {
      "pygments_lexer": "ipython3",
      "nbconvert_exporter": "python",
      "codemirror_mode": {
        "version": 3,
        "name": "ipython"
      },
      "version": "3.5.2",
      "mimetype": "text/x-python",
      "name": "python",
      "file_extension": ".py"
    }
  },
  "nbformat": 4
}