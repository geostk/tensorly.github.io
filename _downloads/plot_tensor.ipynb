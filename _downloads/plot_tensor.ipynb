{
  "metadata": {
    "kernelspec": {
      "name": "python3",
      "display_name": "Python 3",
      "language": "python"
    },
    "language_info": {
      "name": "python",
      "file_extension": ".py",
      "nbconvert_exporter": "python",
      "version": "3.5.1",
      "mimetype": "text/x-python",
      "pygments_lexer": "ipython3",
      "codemirror_mode": {
        "name": "ipython",
        "version": 3
      }
    }
  },
  "nbformat_minor": 0,
  "cells": [
    {
      "outputs": [],
      "metadata": {
        "collapsed": false
      },
      "source": [
        "%matplotlib inline"
      ],
      "cell_type": "code",
      "execution_count": null
    },
    {
      "metadata": {},
      "source": [
        "\nBasic tensor operations\n=======================\n\nExample on how to use :mod:`tensorly.base` to perform basic tensor operations.\n\n\n"
      ],
      "cell_type": "markdown"
    },
    {
      "outputs": [],
      "metadata": {
        "collapsed": false
      },
      "source": [
        "import matplotlib.pyplot as plt\nfrom tensorly.base import unfold, fold\nimport numpy as np"
      ],
      "cell_type": "code",
      "execution_count": null
    },
    {
      "metadata": {},
      "source": [
        "A tensor is simply a numpy array\n\n"
      ],
      "cell_type": "markdown"
    },
    {
      "outputs": [],
      "metadata": {
        "collapsed": false
      },
      "source": [
        "tensor = np.arange(24).reshape((3, 4, 2))\nprint('* original tensor:\\n{}'.format(tensor))"
      ],
      "cell_type": "code",
      "execution_count": null
    },
    {
      "metadata": {},
      "source": [
        "Unfolding a tensor is easy\n\n"
      ],
      "cell_type": "markdown"
    },
    {
      "outputs": [],
      "metadata": {
        "collapsed": false
      },
      "source": [
        "for mode in range(tensor.ndim):\n    print('* mode-{} unfolding:\\n{}'.format(mode, unfold(tensor, mode)))"
      ],
      "cell_type": "code",
      "execution_count": null
    },
    {
      "metadata": {},
      "source": [
        "Re-folding the tensor is as easy:\n\n"
      ],
      "cell_type": "markdown"
    },
    {
      "outputs": [],
      "metadata": {
        "collapsed": false
      },
      "source": [
        "for mode in range(tensor.ndim):\n    unfolding = unfold(tensor, mode)\n    folded = fold(unfolding, mode, tensor.shape)\n    print(np.all(folded == tensor))"
      ],
      "cell_type": "code",
      "execution_count": null
    }
  ],
  "nbformat": 4
}