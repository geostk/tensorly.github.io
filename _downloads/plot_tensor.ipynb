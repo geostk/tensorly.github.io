{
  "nbformat": 4,
  "metadata": {
    "language_info": {
      "version": "3.5.1",
      "file_extension": ".py",
      "name": "python",
      "nbconvert_exporter": "python",
      "mimetype": "text/x-python",
      "codemirror_mode": {
        "version": 3,
        "name": "ipython"
      },
      "pygments_lexer": "ipython3"
    },
    "kernelspec": {
      "display_name": "Python 3",
      "language": "python",
      "name": "python3"
    }
  },
  "nbformat_minor": 0,
  "cells": [
    {
      "outputs": [],
      "execution_count": null,
      "metadata": {
        "collapsed": false
      },
      "cell_type": "code",
      "source": [
        "%matplotlib inline"
      ]
    },
    {
      "source": [
        "\nBasic tensor operations\n=======================\n\nExample on how to use :mod:`tensorly.base` to perform basic tensor operations.\n\n\n"
      ],
      "metadata": {},
      "cell_type": "markdown"
    },
    {
      "outputs": [],
      "execution_count": null,
      "metadata": {
        "collapsed": false
      },
      "cell_type": "code",
      "source": [
        "import matplotlib.pyplot as plt\nfrom tensorly.base import unfold, fold\nimport numpy as np"
      ]
    },
    {
      "source": [
        "A tensor is simply a numpy array\n\n"
      ],
      "metadata": {},
      "cell_type": "markdown"
    },
    {
      "outputs": [],
      "execution_count": null,
      "metadata": {
        "collapsed": false
      },
      "cell_type": "code",
      "source": [
        "tensor = np.arange(24).reshape((3, 4, 2))\nprint('* original tensor:\\n{}'.format(tensor))"
      ]
    },
    {
      "source": [
        "Unfolding a tensor is easy\n\n"
      ],
      "metadata": {},
      "cell_type": "markdown"
    },
    {
      "outputs": [],
      "execution_count": null,
      "metadata": {
        "collapsed": false
      },
      "cell_type": "code",
      "source": [
        "for mode in range(tensor.ndim):\n    print('* mode-{} unfolding:\\n{}'.format(mode, unfold(tensor, mode)))"
      ]
    },
    {
      "source": [
        "Re-folding the tensor is as easy:\n\n"
      ],
      "metadata": {},
      "cell_type": "markdown"
    },
    {
      "outputs": [],
      "execution_count": null,
      "metadata": {
        "collapsed": false
      },
      "cell_type": "code",
      "source": [
        "for mode in range(tensor.ndim):\n    unfolded = unfold(tensor, mode)\n    print('* mode-{} unfolding:\\n{}'.format(mode, fold(unfolded, mode, tensor.shape)))"
      ]
    }
  ]
}