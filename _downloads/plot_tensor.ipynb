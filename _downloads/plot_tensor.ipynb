{
  "cells": [
    {
      "execution_count": null,
      "cell_type": "code",
      "source": [
        "%matplotlib inline"
      ],
      "metadata": {
        "collapsed": false
      },
      "outputs": []
    },
    {
      "cell_type": "markdown",
      "source": [
        "\nBasic tensor operations\n=======================\n\nExample on how to use :mod:`tensorly.base` to perform basic tensor operations.\n\n\n"
      ],
      "metadata": {}
    },
    {
      "execution_count": null,
      "cell_type": "code",
      "source": [
        "import matplotlib.pyplot as plt\nfrom tensorly.base import unfold, fold\nimport numpy as np"
      ],
      "metadata": {
        "collapsed": false
      },
      "outputs": []
    },
    {
      "cell_type": "markdown",
      "source": [
        "A tensor is simply a numpy array\n\n"
      ],
      "metadata": {}
    },
    {
      "execution_count": null,
      "cell_type": "code",
      "source": [
        "tensor = np.arange(24).reshape((3, 4, 2))\nprint('* original tensor:\\n{}'.format(tensor))"
      ],
      "metadata": {
        "collapsed": false
      },
      "outputs": []
    },
    {
      "cell_type": "markdown",
      "source": [
        "Unfolding a tensor is easy\n\n"
      ],
      "metadata": {}
    },
    {
      "execution_count": null,
      "cell_type": "code",
      "source": [
        "for mode in range(tensor.ndim):\n    print('* mode-{} unfolding:\\n{}'.format(mode, unfold(tensor, mode)))"
      ],
      "metadata": {
        "collapsed": false
      },
      "outputs": []
    },
    {
      "cell_type": "markdown",
      "source": [
        "Re-folding the tensor is as easy:\n\n"
      ],
      "metadata": {}
    },
    {
      "execution_count": null,
      "cell_type": "code",
      "source": [
        "for mode in range(tensor.ndim):\n    unfolding = unfold(tensor, mode)\n    folded = fold(unfolding, mode, tensor.shape)\n    print(np.all(folded == tensor))"
      ],
      "metadata": {
        "collapsed": false
      },
      "outputs": []
    }
  ],
  "nbformat_minor": 0,
  "metadata": {
    "kernelspec": {
      "name": "python3",
      "language": "python",
      "display_name": "Python 3"
    },
    "language_info": {
      "codemirror_mode": {
        "version": 3,
        "name": "ipython"
      },
      "file_extension": ".py",
      "nbconvert_exporter": "python",
      "name": "python",
      "mimetype": "text/x-python",
      "pygments_lexer": "ipython3",
      "version": "3.5.2"
    }
  },
  "nbformat": 4
}